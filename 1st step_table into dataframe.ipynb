{
 "cells": [
  {
   "cell_type": "code",
   "execution_count": 146,
   "metadata": {
    "collapsed": true
   },
   "outputs": [],
   "source": [
    "#pip install requests BeautifulSoup4"
   ]
  },
  {
   "cell_type": "code",
   "execution_count": 147,
   "metadata": {
    "collapsed": true
   },
   "outputs": [],
   "source": [
    "from requests import get\n",
    "from requests.exceptions import RequestException\n",
    "from contextlib import closing\n",
    "from bs4 import BeautifulSoup"
   ]
  },
  {
   "cell_type": "code",
   "execution_count": 148,
   "metadata": {
    "collapsed": true
   },
   "outputs": [],
   "source": [
    "#soup = BeautifulSoup(raw_html , 'lxml')"
   ]
  },
  {
   "cell_type": "code",
   "execution_count": 149,
   "metadata": {
    "collapsed": true
   },
   "outputs": [],
   "source": [
    "# scraping the title of the web page(first title only)\n",
    "#article = soup.find('div' , class_='article')\n",
    "#print(postal)\n",
    "\n",
    "#headline = article.h2.a.text\n",
    "#print(headline)\n",
    "\n",
    "#summary = article.p.text\n",
    "#print(summary)"
   ]
  },
  {
   "cell_type": "code",
   "execution_count": 150,
   "metadata": {
    "collapsed": true
   },
   "outputs": [],
   "source": [
    "import requests\n",
    "\n",
    "source = requests.get('https://en.wikipedia.org/wiki/List_of_postal_codes_of_Canada:_M').text\n",
    "soup = BeautifulSoup(source , 'lxml')"
   ]
  },
  {
   "cell_type": "code",
   "execution_count": 151,
   "metadata": {
    "collapsed": true
   },
   "outputs": [],
   "source": [
    "table = soup.find('table', attrs={'class':'wikitable sortable'})\n",
    "table_rows = table.find_all('tr')\n",
    "\n",
    "for tr in table_rows:\n",
    "    td = tr.find_all('td')\n",
    "    row = [tr.text for tr in td]\n",
    "    #print(row)  "
   ]
  },
  {
   "cell_type": "code",
   "execution_count": 152,
   "metadata": {
    "collapsed": true
   },
   "outputs": [],
   "source": [
    "import pandas as pd\n",
    "l = []\n",
    "for tr in table_rows:\n",
    "    td = tr.find_all('td')\n",
    "    row = [tr.text for tr in td]\n",
    "    l.append(row)\n",
    "neighborhoud_table = pd.DataFrame(l, columns=[\"A\", \"B\", ...])\n",
    "#print(neighborhoud_table)"
   ]
  },
  {
   "cell_type": "code",
   "execution_count": 153,
   "metadata": {
    "collapsed": true
   },
   "outputs": [],
   "source": [
    "neighborhoud_table.rename(columns={'A':'Postal code','B':'Borough', Ellipsis:'Neighborhoud'}, inplace=True);"
   ]
  },
  {
   "cell_type": "code",
   "execution_count": 154,
   "metadata": {},
   "outputs": [
    {
     "name": "stdout",
     "output_type": "stream",
     "text": [
      "(181, 3)\n"
     ]
    }
   ],
   "source": [
    "list(neighborhoud_table.columns)\n",
    "print (neighborhoud_table.shape)"
   ]
  },
  {
   "cell_type": "code",
   "execution_count": 155,
   "metadata": {},
   "outputs": [
    {
     "name": "stdout",
     "output_type": "stream",
     "text": [
      "  Postal code Borough Neighborhoud\n",
      "0        None    None         None\n"
     ]
    }
   ],
   "source": [
    "print(neighborhoud_table.iloc[:1])"
   ]
  },
  {
   "cell_type": "code",
   "execution_count": 156,
   "metadata": {},
   "outputs": [
    {
     "name": "stdout",
     "output_type": "stream",
     "text": [
      "(180, 3)\n"
     ]
    }
   ],
   "source": [
    "# drop rows that contains all nulls\n",
    "modified_neighborhoud = neighborhoud_table.dropna(axis=0 , how='all');\n",
    "print (modified_neighborhoud.shape)"
   ]
  },
  {
   "cell_type": "code",
   "execution_count": 157,
   "metadata": {},
   "outputs": [
    {
     "name": "stdout",
     "output_type": "stream",
     "text": [
      "  Postal code             Borough                  Neighborhoud\n",
      "1       M1A\\n      Not assigned\\n                            \\n\n",
      "2       M2A\\n      Not assigned\\n                            \\n\n",
      "3       M3A\\n        North York\\n                   Parkwoods\\n\n",
      "4       M4A\\n        North York\\n            Victoria Village\\n\n",
      "5       M5A\\n  Downtown Toronto\\n  Regent Park / Harbourfront\\n\n"
     ]
    }
   ],
   "source": [
    "#neighborhoud_table.drop(labels='0' , axis=0)\n",
    "print(modified_neighborhoud[:5])"
   ]
  },
  {
   "cell_type": "code",
   "execution_count": 158,
   "metadata": {},
   "outputs": [
    {
     "name": "stdout",
     "output_type": "stream",
     "text": [
      "(77,)\n",
      "(103, 3)\n"
     ]
    },
    {
     "name": "stderr",
     "output_type": "stream",
     "text": [
      "E:\\engineering_programs\\Anaconda\\anaconda_installation\\lib\\site-packages\\ipykernel_launcher.py:5: SettingWithCopyWarning: \n",
      "A value is trying to be set on a copy of a slice from a DataFrame\n",
      "\n",
      "See the caveats in the documentation: http://pandas.pydata.org/pandas-docs/stable/indexing.html#indexing-view-versus-copy\n",
      "  \"\"\"\n"
     ]
    }
   ],
   "source": [
    "# drop rows where Borough is not assigned\n",
    "indexNames = modified_neighborhoud[ modified_neighborhoud['Borough'] == 'Not assigned\\n'].index\n",
    "print(indexNames.shape)\n",
    "# Delete these row indexes from dataFrame\n",
    "modified_neighborhoud.drop(indexNames , inplace=True)\n",
    "print (modified_neighborhoud.shape)"
   ]
  },
  {
   "cell_type": "code",
   "execution_count": 159,
   "metadata": {},
   "outputs": [
    {
     "name": "stdout",
     "output_type": "stream",
     "text": [
      "  Postal code             Borough  \\\n",
      "3       M3A\\n        North York\\n   \n",
      "4       M4A\\n        North York\\n   \n",
      "5       M5A\\n  Downtown Toronto\\n   \n",
      "6       M6A\\n        North York\\n   \n",
      "7       M7A\\n  Downtown Toronto\\n   \n",
      "\n",
      "                                     Neighborhoud  \n",
      "3                                     Parkwoods\\n  \n",
      "4                              Victoria Village\\n  \n",
      "5                    Regent Park / Harbourfront\\n  \n",
      "6             Lawrence Manor / Lawrence Heights\\n  \n",
      "7  Queen's Park / Ontario Provincial Government\\n  \n"
     ]
    }
   ],
   "source": [
    "print(modified_neighborhoud[:5])"
   ]
  },
  {
   "cell_type": "code",
   "execution_count": 160,
   "metadata": {},
   "outputs": [
    {
     "name": "stdout",
     "output_type": "stream",
     "text": [
      "  Postal code           Borough                                  Neighborhoud\n",
      "3         M3A        North York                                     Parkwoods\n",
      "4         M4A        North York                              Victoria Village\n",
      "5         M5A  Downtown Toronto                    Regent Park / Harbourfront\n",
      "6         M6A        North York             Lawrence Manor / Lawrence Heights\n",
      "7         M7A  Downtown Toronto  Queen's Park / Ontario Provincial Government\n"
     ]
    },
    {
     "name": "stderr",
     "output_type": "stream",
     "text": [
      "E:\\engineering_programs\\Anaconda\\anaconda_installation\\lib\\site-packages\\ipykernel_launcher.py:2: SettingWithCopyWarning: \n",
      "A value is trying to be set on a copy of a slice from a DataFrame.\n",
      "Try using .loc[row_indexer,col_indexer] = value instead\n",
      "\n",
      "See the caveats in the documentation: http://pandas.pydata.org/pandas-docs/stable/indexing.html#indexing-view-versus-copy\n",
      "  \n",
      "E:\\engineering_programs\\Anaconda\\anaconda_installation\\lib\\site-packages\\ipykernel_launcher.py:3: SettingWithCopyWarning: \n",
      "A value is trying to be set on a copy of a slice from a DataFrame.\n",
      "Try using .loc[row_indexer,col_indexer] = value instead\n",
      "\n",
      "See the caveats in the documentation: http://pandas.pydata.org/pandas-docs/stable/indexing.html#indexing-view-versus-copy\n",
      "  This is separate from the ipykernel package so we can avoid doing imports until\n",
      "E:\\engineering_programs\\Anaconda\\anaconda_installation\\lib\\site-packages\\ipykernel_launcher.py:4: SettingWithCopyWarning: \n",
      "A value is trying to be set on a copy of a slice from a DataFrame.\n",
      "Try using .loc[row_indexer,col_indexer] = value instead\n",
      "\n",
      "See the caveats in the documentation: http://pandas.pydata.org/pandas-docs/stable/indexing.html#indexing-view-versus-copy\n",
      "  after removing the cwd from sys.path.\n"
     ]
    }
   ],
   "source": [
    "# remove '\\n' characters from the dataframe\n",
    "modified_neighborhoud['Postal code'] = modified_neighborhoud['Postal code'].str.replace('\\n','');\n",
    "modified_neighborhoud['Borough'] = modified_neighborhoud['Borough'].str.replace('\\n','');\n",
    "modified_neighborhoud['Neighborhoud'] = modified_neighborhoud['Neighborhoud'].str.replace('\\n','');\n",
    "print(modified_neighborhoud[:5])"
   ]
  },
  {
   "cell_type": "code",
   "execution_count": 161,
   "metadata": {},
   "outputs": [
    {
     "name": "stdout",
     "output_type": "stream",
     "text": [
      "  Postal code           Borough                                  Neighborhoud\n",
      "3         M3A        North York                                     Parkwoods\n",
      "4         M4A        North York                              Victoria Village\n",
      "5         M5A  Downtown Toronto                    Regent Park , Harbourfront\n",
      "6         M6A        North York             Lawrence Manor , Lawrence Heights\n",
      "7         M7A  Downtown Toronto  Queen's Park , Ontario Provincial Government\n"
     ]
    },
    {
     "name": "stderr",
     "output_type": "stream",
     "text": [
      "E:\\engineering_programs\\Anaconda\\anaconda_installation\\lib\\site-packages\\ipykernel_launcher.py:2: SettingWithCopyWarning: \n",
      "A value is trying to be set on a copy of a slice from a DataFrame.\n",
      "Try using .loc[row_indexer,col_indexer] = value instead\n",
      "\n",
      "See the caveats in the documentation: http://pandas.pydata.org/pandas-docs/stable/indexing.html#indexing-view-versus-copy\n",
      "  \n"
     ]
    }
   ],
   "source": [
    "# replace / with , in neighborhoud column\n",
    "modified_neighborhoud['Neighborhoud'] = modified_neighborhoud['Neighborhoud'].str.replace('/',',');\n",
    "print(modified_neighborhoud[:5])"
   ]
  },
  {
   "cell_type": "code",
   "execution_count": 162,
   "metadata": {},
   "outputs": [
    {
     "name": "stdout",
     "output_type": "stream",
     "text": [
      "Int64Index([], dtype='int64')\n"
     ]
    }
   ],
   "source": [
    "indexNames = modified_neighborhoud[ modified_neighborhoud['Neighborhoud'] == 'Not assigned\\n'].index\n",
    "print(indexNames)"
   ]
  },
  {
   "cell_type": "code",
   "execution_count": 163,
   "metadata": {},
   "outputs": [
    {
     "name": "stdout",
     "output_type": "stream",
     "text": [
      "(103, 3)\n"
     ]
    }
   ],
   "source": [
    "# shape of the dataframe\n",
    "print (modified_neighborhoud.shape)"
   ]
  },
  {
   "cell_type": "code",
   "execution_count": null,
   "metadata": {
    "collapsed": true
   },
   "outputs": [],
   "source": []
  }
 ],
 "metadata": {
  "kernelspec": {
   "display_name": "Python 3",
   "language": "python",
   "name": "python3"
  },
  "language_info": {
   "codemirror_mode": {
    "name": "ipython",
    "version": 3
   },
   "file_extension": ".py",
   "mimetype": "text/x-python",
   "name": "python",
   "nbconvert_exporter": "python",
   "pygments_lexer": "ipython3",
   "version": "3.6.2"
  }
 },
 "nbformat": 4,
 "nbformat_minor": 2
}
